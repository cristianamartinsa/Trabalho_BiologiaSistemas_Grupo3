{
 "cells": [
  {
   "cell_type": "markdown",
   "id": "0c14b9f1-dbab-4631-b0bb-0601a19b5ae2",
   "metadata": {},
   "source": [
    "### Trabalho de Biologia de Sistemas\n",
    "\n",
    "#### Drug targeting"
   ]
  },
  {
   "cell_type": "markdown",
   "id": "5dcc290e-4a5e-4153-969e-3cc35a5fab06",
   "metadata": {},
   "source": [
    "##### 1- Considere o modelo metabólico em escala de genoma de um organismo patogênico no repositório OptFlux ou no banco de dados BiGG (http://systemsbiology.ucsd.edu/InSilicoOrganisms/OtherOrganisms). Você pode baixar os modelos em SBML, formato JSON ou importar diretamente do repositório, se disponível. Procure a publicação associada e baixe-a. \n",
    "##### Responda às seguintes perguntas:"
   ]
  },
  {
   "cell_type": "markdown",
   "id": "e6a99774-be6f-49b0-b6c7-d5d9d370824d",
   "metadata": {},
   "source": [
    "##### b) Calcular a taxa de crescimento específica sob condições adequadas para o organismo em causa? Quais são os principais produtos excretados sob cada uma das circunstâncias?"
   ]
  },
  {
   "cell_type": "code",
   "execution_count": 1,
   "id": "d52c3b02-0a68-48a3-ac90-f9b0d193b569",
   "metadata": {},
   "outputs": [
    {
     "name": "stdout",
     "output_type": "stream",
     "text": [
      "Set parameter Username\n",
      "Academic license - for non-commercial use only - expires 2022-12-11\n"
     ]
    }
   ],
   "source": [
    "from mewpy.simulation import set_default_solver\n",
    "set_default_solver('glpk')"
   ]
  },
  {
   "cell_type": "code",
   "execution_count": 58,
   "id": "69c5cbd0-6674-4219-9eb2-d3c9c84d045a",
   "metadata": {},
   "outputs": [
    {
     "name": "stdout",
     "output_type": "stream",
     "text": [
      "Objective\n",
      "=========\n",
      "1.0 BIOMASS_Mtb_9_60atp = 0.05254980100850082\n",
      "\n",
      "Uptake\n",
      "------\n",
      "Metabolite    Reaction      Flux  C-Number C-Flux\n",
      "     fe3_e    EX_fe3_e 7.872E-05         0  0.00%\n",
      "  glc__D_e EX_glc__D_e         1         6 66.67%\n",
      "    glyc_e   EX_glyc_e         1         3 33.33%\n",
      "     nh4_e    EX_nh4_e         1         0  0.00%\n",
      "      o2_e     EX_o2_e         1         0  0.00%\n",
      "      pi_e     EX_pi_e   0.05824         0  0.00%\n",
      "     so4_e    EX_so4_e  0.003389         0  0.00%\n",
      "\n",
      "Secretion\n",
      "---------\n",
      "Metabolite    Reaction    Flux  C-Number C-Flux\n",
      "  glu__L_e EX_glu__L_e -0.6565         5 47.81%\n",
      "      h2_e     EX_h2_e  -1.075         0  0.00%\n",
      "   h2co3_e  EX_h2co3_e -0.9696         1 14.12%\n",
      "     h2o_e    EX_h2o_e  -2.056         0  0.00%\n",
      "       h_e      EX_h_e  -2.601         0  0.00%\n",
      "  lac__L_e EX_lac__L_e -0.7639         3 33.38%\n",
      "    succ_e   EX_succ_e -0.0803         4  4.68%\n",
      "\n",
      "-------------\n",
      "A taxa de crescimento, ou seja, a produção de biomassa é para 37ºC, as condições ideais: \n",
      " 0.05254980100850082 mmol/gDW/h\n",
      "-------------\n",
      "objective: 31.438322359811718\n",
      "Status: OPTIMAL\n",
      "Constraints: OrderedDict([('EX_fe3_e', (-1000.0, 1000.0)), ('EX_glc__D_e', (-1.12, 0.0)), ('EX_glyc_e', (-0.012, 0.0)), ('EX_nh4_e', (-0.000999999999999446, 0.0341474000000002)), ('EX_o2_e', (-0.0943609999999993, 5.0000775)), ('EX_pi_e', (-1.30470065185183, 0.0)), ('EX_so4_e', (-1000.0, 1000.0))])\n",
      "Method:pFBA\n",
      "----------------\n"
     ]
    }
   ],
   "source": [
    "from cobra.io import read_sbml_model\n",
    "import cobra\n",
    "from mewpy.simulation import get_simulator\n",
    "\n",
    "model = cobra.io.sbml.read_sbml_model('iNJ661.xml')\n",
    "print(model.summary()) #products excreted\n",
    "print('-------------')\n",
    "opt_model= model.optimize()\n",
    "obj_model= opt_model.objective_value\n",
    "print(\"A taxa de crescimento, ou seja, a produção de biomassa é para 37ºC, as condições ideais:\",'\\n',obj_model,\"mmol/gDW/h\")\n",
    "print('-------------')\n",
    "\n",
    "model_1 = read_sbml_model('iNJ661.xml')\n",
    "envcond = {'EX_fe3_e': (-1000.0, 1000.0),\n",
    "           'EX_glc__D_e': (-1.12, 0.0), \n",
    "           'EX_glyc_e': (-0.012, 0.0),\n",
    "           'EX_nh4_e': (-0.000999999999999446, 0.0341474000000002), \n",
    "           'EX_o2_e': (-0.0943609999999993, 5.0000775), \n",
    "           'EX_pi_e': (-1.30470065185183, 0.0), \n",
    "           'EX_so4_e': (-1000.0, 1000.0)}\n",
    "\n",
    "simul = get_simulator(model_1, envcond=envcond)\n",
    "result= simul.simulate(method='pFBA')\n",
    "print(result) #specific growth rate\n",
    "print('----------------')"
   ]
  },
  {
   "cell_type": "markdown",
   "id": "c4234c05-4c1b-41bb-910a-3863100c15d8",
   "metadata": {},
   "source": [
    "##### c) Listar todos os genes/reações que podem ser potenciais alvos de drogas. "
   ]
  },
  {
   "cell_type": "code",
   "execution_count": 47,
   "id": "f15ccab0-687a-4694-9142-ece2fb52f7ed",
   "metadata": {},
   "outputs": [
    {
     "name": "stdout",
     "output_type": "stream",
     "text": [
      "Reações essenciais: \n",
      " ------------------ \n",
      " ['THDPS', 'TDPGDH', 'TDPDRR', 'TDPDRE', 'TDMS4', 'TDMS3', 'TDMS2', 'TDMS1', 'TATSO', 'TATS', 'TAS', 'SULabc', 'SULR', 'PMANM', 'PSSA160', 'PSP_L', 'PSERT', 'PSD160', 'PSCVT', 'PRPPS', 'PHTHS2', 'PHTHS', 'PHTHDLS2', 'PHTHDLS', 'SHSL1', 'PRMICI', 'SHKK', 'PRFGS', 'PHETA1', 'SHK3Dr', 'PREPTHS2', 'PREPTHS', 'PREPPACPH', 'PHDCATA', 'PGSA190', 'PRATPP', 'PGSA160190', 'PGSA160', 'PRASCSi', 'PRAMPC', 'PGPPT3', 'PGPP190', 'PGPP160190', 'PGPP160', 'PRAIi', 'PRAIS', 'PRAGSr', 'PPTGS_TB2', 'PPTGS_TB1', 'PGMT', 'PGLS', 'PPNDH', 'PPND', 'PGCD', 'PGAMT', 'PPDIMAS', 'PDIMAS', 'PPA', 'SERAT', 'SDPTA', 'SDPDS', 'PATS', 'PAPSR', 'PAPPT3', 'SALCS', 'PAPPT2', 'PAPPT1', 'MN6PP', 'RRPPDIMAS', 'RPPDIMAS', 'RPI', 'UDPGALM', 'UDPG4E', 'RNDR3', 'MMM2', 'UDCPDP', 'RNDR2', 'UAPGR', 'UAMRH', 'MME', 'UAMAS', 'RNDR1', 'UAMAGS', 'UAGPT3', 'UAGPT2', 'MI1PS', 'MI1PP', 'UAGPT1', 'UAGDP', 'RBK_Dr', 'UAGCVT', 'UAAGLS2', 'UAAGLS1', 'UAAGDS', 'TYRTA', 'METS', 'METAT', 'MEPCT', 'IPPMIa', 'MECDPS', 'MECDPDH', 'TRESULT', 'TRE6PS', 'TRE6PP', 'IPMD', 'MCOATA', 'TRDR', 'MCBTS3', 'MCBTS', 'MANAT3', 'MANAT1', 'TMHAS4', 'TMHAS3', 'TMHAS2', 'MAN6PI', 'TMHAS1', 'TMDS', 'BIOMASS_Mtb_9_60atp', 'INSH', 'VALTA', 'IMPD', 'UGMDDS2', 'IMPC', 'UGMDDS', 'UGMAS', 'UGMAGS', 'UGLDDS2', 'LEUTA', 'UGLDDS1', 'ILETA', 'UGGPT3', 'UGAGDS', 'KARA2', 'IGPS', 'KARA1', 'IGPDH', 'IG3PS', 'IPPS', 'IPPMIb', 'HSTPT', 'GLUt2r', 'GLUR', 'GLUPRT', 'GLNS', 'GK1', 'GHMT2r', 'GFUCS', 'GF6PTA', 'GARFT', 'EX_glu__L_e', 'GALUi', 'GALT', 'GALKr', 'GALFT', 'G5SADs', 'G3PAT190', 'G3PAT160', 'G1PTT', 'G1PACT', 'G16MTM9', 'G16MTM8', 'G16MTM7', 'G16MTM6', 'G16MTM5', 'G16MTM4', 'G16MTM10', 'G16MTM1', 'HISTP', 'HISTD', 'FRRPPDIMAS', 'ORPT', 'HCO3E', 'HAS', 'OMPDC', 'OMCDC', 'OCOAT1', 'OCBT', 'O2t', 'O16RHAT', 'NDPK4', 'NDPK2', 'MYC1CYC4', 'MYC1CYC3', 'MYC1CYC2', 'MYC1CYC1', 'MTHFR2', 'MYCSacp58', 'MYCSacp56', 'MYCSacp50', 'MYCON5', 'GRTT', 'MYCON4', 'MYCON3', 'MYCON2', 'MYCON1', 'DXPS', 'DXPRIi', 'MYC2CYC3', 'MYC2CYC2', 'MYC2CYC1', 'GMT2', 'MYC1M2', 'MYC1M1', 'MYC1CYC5', 'GMT1', 'GMPS2', 'DMATT', 'GMAND', 'DHQS', 'DHQTi', 'DHORTS', 'GLYCt', 'CYSTL', 'CYSS', 'DHFR', 'DHDPS', 'DHDPRy', 'DHAD2', 'DHAD1', 'DGK1', 'ATPPRT', 'DDPA', 'ASPTA', 'DASYN190190', 'DASYN160190', 'DASYN160', 'DAPE', 'DAPDC', 'CMCBTFL', 'CLPNS160190', 'ASPK', 'CHRPL', 'CHORS', 'CHORM', 'ASPCT', 'CDPPT160190', 'CDPMEK', 'ASNS1', 'CBPS', 'ASAD', 'BPNT', 'BDH', 'FAMPL5', 'FAMPL4', 'FASm340', 'FAMPL3', 'FAMPL2', 'FAMPL1', 'FASm320', 'FASm300', 'FACOALPHDCA', 'FASm2802', 'FASm2801', 'FASm280', 'FACOAL80', 'FACOAL200', 'FASm2602', 'ARACHTA', 'FASm2601', 'FASm260', 'FASm2402', 'ARABDI', 'FASm2401', 'FASm240', 'FACOAL160', 'FASm2202', 'ARABF', 'FASm2201', 'FASm220', 'FASm2002', 'FASm2001', 'FASm1801', 'FASm180', 'FASm1601', 'FASPHDCA', 'FAS80_L', 'FAS260', 'FAS240_L', 'FAS200', 'FAS180', 'ANS', 'FAS160', 'FAS140', 'FAS120', 'FAS100', 'ANPRT', 'ACOTA', 'ACLS', 'ACHBS', 'ACGK', 'ACGAMT', 'ACChex', 'ACCOAC', 'ACCC', 'ACACT1r', 'AACPS3', 'AACPS11', 'AACPS10', 'ALAR', 'ALAALAr', 'AHCi', 'AGPR', 'AGPAT190', 'AGPAT160190', 'AGPAT160', 'AFTA', 'AFE', 'ADSS', 'ADSL2r', 'ADSL1r', 'ADSK'] \n",
      " Quantidade de reações essenciais: 311\n",
      "----------------------------------------------------------------------------------------------------------- \n",
      "\n",
      "Genes essenciais: \n",
      " ------------------ \n",
      " ['Rv2051c', 'Rv1201c', 'Rv3396c', 'Rv2156c', 'Rv3266c', 'Rv3465', 'Rv3068c', 'Rv2392', 'Rv0391', 'Rv0500', 'Rv1079', 'Rv2539c', 'Rv2552c', 'Rv2335', 'Rv1338', 'Rv0858c', 'Rv1202', 'Rv2386c', 'Rv1286', 'Rv1692', 'Rv1285', 'Rv2958c', 'Rv2962c', 'Rv1493', 'Rv2465c', 'Rv1492', 'Rv0570', 'Rv0855', 'Rv1981c', 'Rv1878', 'Rv3051c', 'Rv0046c', 'Rv3048c', 'Rv2220', 'Rv2860c', 'Rv2222c', 'Rv1389', 'Rv2124c', 'Rv1392', 'Rv1512', 'Rv3582c', 'Rv3581c', 'Rv3436c', 'Rv0436c', 'Rv0884c', 'Rv2381c', 'Rv0993', 'Rv0437c', 'Rv2383c', 'Rv3227', 'Rv2380c', 'Rv2382c', 'Rv2379c', 'Rv0619', 'Rv1017c', 'Rv2378c', 'Rv2384', 'Rv0618', 'Rv2611c', 'Rv0620', 'Rv3255c', 'Rv3808c', 'Rv1603', 'Rv3264c', 'Rv0788', 'Rv0803', 'Rv2934', 'Rv2932', 'Rv2210c', 'Rv2935', 'Rv2933', 'Rv2931', 'Rv2928', 'Rv1551', 'Rv2122c', 'Rv0780', 'Rv1606', 'Rv0334', 'Rv2157c', 'Rv0809', 'Rv0772', 'Rv2152c', 'Rv2155c', 'Rv2610c', 'Rv2153c', 'Rv2163c', 'Rv2158c', 'Rv3838c', 'Rv2957', 'Rv3754', 'Rv3809c', 'Rv2941', 'Rv2136c', 'Rv0382c', 'Rv0482', 'Rv1653', 'Rv3818', 'Rv1018c', 'Rv3628', 'Rv1315', 'Rv1612', 'Rv1613', 'Rv1385', 'Rv2503c', 'Rv2504c', 'Rv1656', 'Rv3265c', 'Rv3490', 'Rv3372', 'Rv2006', 'Rv3913', 'Rv1699', 'Rv1449c', 'Rv2949c', 'Rv2445c', 'Rv2540c', 'Rv1885c', 'Rv2612c', 'Rv1011', 'Rv1383', 'Rv3001c', 'Rv3710', 'Rv2988c', 'Rv2121c', 'Rv2987c', 'Rv2995c', 'Rv3709c', 'Rv3393', 'Rv1380', 'Rv1843c', 'Rv3410c', 'Rv3411c', 'Rv2246', 'Rv0957', 'Rv2201', 'Rv1611', 'Rv1601', 'Rv3708c', 'Rv2245', 'Rv1605', 'Rv3800c', 'Rv0644c', 'Rv0470c', 'Rv2192c', 'Rv1294', 'Rv2870c', 'Rv3423c', 'Rv2981c', 'Rv1599', 'Rv3398c', 'Rv3248c', 'Rv2538c', 'Rv1652', 'Rv2537c', 'Rv3792', 'Rv3793', 'Rv1381', 'Rv3795', 'Rv2139', 'Rv3794', 'Rv0357c', 'Rv0777', 'Rv2763c', 'Rv2753c', 'Rv2773c', 'Rv0189c', 'Rv1086', 'Rv2178c', 'Rv2940c', 'Rv2881c', 'Rv1662', 'Rv1663', 'Rv2726c', 'Rv2524c', 'Rv1293', 'Rv2947c', 'Rv1350', 'Rv1484', 'Rv1323', 'Rv3801c', 'Rv3340', 'Rv0733', 'Rv1655', 'Rv3002c', 'Rv1654', 'Rv1302', 'Rv3280', 'Rv3815c'] \n",
      " Quantidade de genes essenciais: 188\n",
      "-----------------------------------------------------------------------------------------------------------\n"
     ]
    }
   ],
   "source": [
    "reacoes = simul.essential_reactions()\n",
    "genes = simul.essential_genes()\n",
    "\n",
    "print('Reações essenciais:','\\n','------------------','\\n',reacoes,'\\n','Quantidade de reações essenciais:',len(reacoes))\n",
    "print('-----------------------------------------------------------------------------------------------------------','\\n')\n",
    "print('Genes essenciais:', '\\n','------------------','\\n',genes, '\\n','Quantidade de genes essenciais:',len(genes))\n",
    "print('-----------------------------------------------------------------------------------------------------------')"
   ]
  }
 ],
 "metadata": {
  "kernelspec": {
   "display_name": "Python 3",
   "language": "python",
   "name": "python3"
  },
  "language_info": {
   "codemirror_mode": {
    "name": "ipython",
    "version": 3
   },
   "file_extension": ".py",
   "mimetype": "text/x-python",
   "name": "python",
   "nbconvert_exporter": "python",
   "pygments_lexer": "ipython3",
   "version": "3.8.8"
  }
 },
 "nbformat": 4,
 "nbformat_minor": 5
}
