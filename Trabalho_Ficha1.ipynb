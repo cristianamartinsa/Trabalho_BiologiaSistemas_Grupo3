{
 "cells": [
  {
   "cell_type": "markdown",
   "id": "a13bd8b1-fcd1-415e-8d98-d329c50259bd",
   "metadata": {},
   "source": [
    "# Trabalho Ficha 1"
   ]
  },
  {
   "cell_type": "markdown",
   "id": "4ec9fcfc-d3ae-435b-a3e2-b05b9a71cc9d",
   "metadata": {},
   "source": [
    "Instalação Mewpy "
   ]
  },
  {
   "cell_type": "code",
   "execution_count": 17,
   "id": "2af90714-251c-48e9-ad40-0dd0e92afea2",
   "metadata": {
    "collapsed": true,
    "jupyter": {
     "outputs_hidden": true
    },
    "tags": []
   },
   "outputs": [
    {
     "name": "stdout",
     "output_type": "stream",
     "text": [
      "Requirement already satisfied: mewpy in c:\\users\\cristiana\\anaconda3\\lib\\site-packages (0.1.11)\n",
      "Requirement already satisfied: networkx in c:\\users\\cristiana\\anaconda3\\lib\\site-packages (from mewpy) (2.5)\n",
      "Requirement already satisfied: matplotlib<3.3 in c:\\users\\cristiana\\anaconda3\\lib\\site-packages (from mewpy) (3.2.2)\n",
      "Requirement already satisfied: python-libsbml==5.19.0 in c:\\users\\cristiana\\anaconda3\\lib\\site-packages (from mewpy) (5.19.0)\n",
      "Requirement already satisfied: jmetalpy in c:\\users\\cristiana\\anaconda3\\lib\\site-packages (from mewpy) (1.5.5)\n",
      "Requirement already satisfied: cobra in c:\\users\\cristiana\\anaconda3\\lib\\site-packages (from mewpy) (0.21.0)\n",
      "Requirement already satisfied: cobamp in c:\\users\\cristiana\\anaconda3\\lib\\site-packages (from mewpy) (0.2.0)\n",
      "Requirement already satisfied: reframed in c:\\users\\cristiana\\anaconda3\\lib\\site-packages (from mewpy) (1.2.1)\n",
      "Requirement already satisfied: inspyred in c:\\users\\cristiana\\anaconda3\\lib\\site-packages (from mewpy) (1.0.1)\n",
      "Requirement already satisfied: cycler>=0.10 in c:\\users\\cristiana\\anaconda3\\lib\\site-packages (from matplotlib<3.3->mewpy) (0.10.0)\n",
      "Requirement already satisfied: kiwisolver>=1.0.1 in c:\\users\\cristiana\\anaconda3\\lib\\site-packages (from matplotlib<3.3->mewpy) (1.3.1)\n",
      "Requirement already satisfied: numpy>=1.11 in c:\\users\\cristiana\\anaconda3\\lib\\site-packages (from matplotlib<3.3->mewpy) (1.20.1)\n",
      "Requirement already satisfied: pyparsing!=2.0.4,!=2.1.2,!=2.1.6,>=2.0.1 in c:\\users\\cristiana\\anaconda3\\lib\\site-packages (from matplotlib<3.3->mewpy) (2.4.7)\n",
      "Requirement already satisfied: python-dateutil>=2.1 in c:\\users\\cristiana\\anaconda3\\lib\\site-packages (from matplotlib<3.3->mewpy) (2.8.1)\n",
      "Requirement already satisfied: six in c:\\users\\cristiana\\anaconda3\\lib\\site-packages (from cycler>=0.10->matplotlib<3.3->mewpy) (1.15.0)\n",
      "Requirement already satisfied: optlang in c:\\users\\cristiana\\anaconda3\\lib\\site-packages (from cobamp->mewpy) (1.4.4)\n",
      "Requirement already satisfied: pandas in c:\\users\\cristiana\\anaconda3\\lib\\site-packages (from cobamp->mewpy) (1.2.4)\n",
      "Requirement already satisfied: boolean.py in c:\\users\\cristiana\\anaconda3\\lib\\site-packages (from cobamp->mewpy) (3.8)\n",
      "Requirement already satisfied: pathos in c:\\users\\cristiana\\anaconda3\\lib\\site-packages (from cobamp->mewpy) (0.2.8)\n",
      "Requirement already satisfied: scipy in c:\\users\\cristiana\\anaconda3\\lib\\site-packages (from cobamp->mewpy) (1.6.2)\n",
      "Requirement already satisfied: depinfo in c:\\users\\cristiana\\anaconda3\\lib\\site-packages (from cobra->mewpy) (1.7.0)\n",
      "Requirement already satisfied: importlib-resources in c:\\users\\cristiana\\anaconda3\\lib\\site-packages (from cobra->mewpy) (5.4.0)\n",
      "Requirement already satisfied: diskcache~=5.0 in c:\\users\\cristiana\\anaconda3\\lib\\site-packages (from cobra->mewpy) (5.2.1)\n",
      "Requirement already satisfied: pydantic~=1.6 in c:\\users\\cristiana\\anaconda3\\lib\\site-packages (from cobra->mewpy) (1.8.2)\n",
      "Requirement already satisfied: ruamel.yaml~=0.16 in c:\\users\\cristiana\\anaconda3\\lib\\site-packages (from cobra->mewpy) (0.17.17)\n",
      "Requirement already satisfied: future in c:\\users\\cristiana\\anaconda3\\lib\\site-packages (from cobra->mewpy) (0.18.2)Note: you may need to restart the kernel to use updated packages.\n",
      "\n",
      "Requirement already satisfied: appdirs~=1.4 in c:\\users\\cristiana\\anaconda3\\lib\\site-packages (from cobra->mewpy) (1.4.4)\n",
      "Requirement already satisfied: swiglpk in c:\\users\\cristiana\\anaconda3\\lib\\site-packages (from cobra->mewpy) (5.0.3)\n",
      "Requirement already satisfied: rich~=6.0 in c:\\users\\cristiana\\anaconda3\\lib\\site-packages (from cobra->mewpy) (6.2.0)\n",
      "Requirement already satisfied: httpx~=0.14 in c:\\users\\cristiana\\anaconda3\\lib\\site-packages (from cobra->mewpy) (0.21.1)\n",
      "Requirement already satisfied: certifi in c:\\users\\cristiana\\anaconda3\\lib\\site-packages (from httpx~=0.14->cobra->mewpy) (2020.12.5)\n",
      "Requirement already satisfied: charset-normalizer in c:\\users\\cristiana\\anaconda3\\lib\\site-packages (from httpx~=0.14->cobra->mewpy) (2.0.8)\n",
      "Requirement already satisfied: httpcore<0.15.0,>=0.14.0 in c:\\users\\cristiana\\anaconda3\\lib\\site-packages (from httpx~=0.14->cobra->mewpy) (0.14.3)\n",
      "Requirement already satisfied: sniffio in c:\\users\\cristiana\\anaconda3\\lib\\site-packages (from httpx~=0.14->cobra->mewpy) (1.2.0)\n",
      "Requirement already satisfied: rfc3986[idna2008]<2,>=1.3 in c:\\users\\cristiana\\anaconda3\\lib\\site-packages (from httpx~=0.14->cobra->mewpy) (1.5.0)\n",
      "Requirement already satisfied: anyio==3.* in c:\\users\\cristiana\\anaconda3\\lib\\site-packages (from httpcore<0.15.0,>=0.14.0->httpx~=0.14->cobra->mewpy) (3.4.0)\n",
      "Requirement already satisfied: h11<0.13,>=0.11 in c:\\users\\cristiana\\anaconda3\\lib\\site-packages (from httpcore<0.15.0,>=0.14.0->httpx~=0.14->cobra->mewpy) (0.12.0)\n",
      "Requirement already satisfied: idna>=2.8 in c:\\users\\cristiana\\anaconda3\\lib\\site-packages (from anyio==3.*->httpcore<0.15.0,>=0.14.0->httpx~=0.14->cobra->mewpy) (2.10)\n",
      "Requirement already satisfied: sympy>=1.0.0 in c:\\users\\cristiana\\anaconda3\\lib\\site-packages (from optlang->cobamp->mewpy) (1.8)\n",
      "Requirement already satisfied: pytz>=2017.3 in c:\\users\\cristiana\\anaconda3\\lib\\site-packages (from pandas->cobamp->mewpy) (2021.1)\n",
      "Requirement already satisfied: typing-extensions>=3.7.4.3 in c:\\users\\cristiana\\anaconda3\\lib\\site-packages (from pydantic~=1.6->cobra->mewpy) (3.7.4.3)\n",
      "Requirement already satisfied: colorama<0.5.0,>=0.4.0 in c:\\users\\cristiana\\anaconda3\\lib\\site-packages (from rich~=6.0->cobra->mewpy) (0.4.4)\n",
      "Requirement already satisfied: pygments<3.0.0,>=2.6.0 in c:\\users\\cristiana\\anaconda3\\lib\\site-packages (from rich~=6.0->cobra->mewpy) (2.8.1)\n",
      "Requirement already satisfied: commonmark<0.10.0,>=0.9.0 in c:\\users\\cristiana\\anaconda3\\lib\\site-packages (from rich~=6.0->cobra->mewpy) (0.9.1)\n",
      "Requirement already satisfied: ruamel.yaml.clib>=0.1.2 in c:\\users\\cristiana\\anaconda3\\lib\\site-packages (from ruamel.yaml~=0.16->cobra->mewpy) (0.2.6)\n",
      "Requirement already satisfied: mpmath>=0.19 in c:\\users\\cristiana\\anaconda3\\lib\\site-packages (from sympy>=1.0.0->optlang->cobamp->mewpy) (1.2.1)\n",
      "Requirement already satisfied: zipp>=3.1.0 in c:\\users\\cristiana\\anaconda3\\lib\\site-packages (from importlib-resources->cobra->mewpy) (3.4.1)\n",
      "Requirement already satisfied: tqdm in c:\\users\\cristiana\\anaconda3\\lib\\site-packages (from jmetalpy->mewpy) (4.59.0)\n",
      "Requirement already satisfied: plotly>=3.3.0 in c:\\users\\cristiana\\anaconda3\\lib\\site-packages (from jmetalpy->mewpy) (5.4.0)\n",
      "Requirement already satisfied: statsmodels>=0.9.0 in c:\\users\\cristiana\\anaconda3\\lib\\site-packages (from jmetalpy->mewpy) (0.12.2)\n",
      "Requirement already satisfied: tenacity>=6.2.0 in c:\\users\\cristiana\\anaconda3\\lib\\site-packages (from plotly>=3.3.0->jmetalpy->mewpy) (8.0.1)\n",
      "Requirement already satisfied: patsy>=0.5 in c:\\users\\cristiana\\anaconda3\\lib\\site-packages (from statsmodels>=0.9.0->jmetalpy->mewpy) (0.5.1)\n",
      "Requirement already satisfied: decorator>=4.3.0 in c:\\users\\cristiana\\anaconda3\\lib\\site-packages (from networkx->mewpy) (5.0.6)\n",
      "Requirement already satisfied: multiprocess>=0.70.12 in c:\\users\\cristiana\\anaconda3\\lib\\site-packages (from pathos->cobamp->mewpy) (0.70.12.2)\n",
      "Requirement already satisfied: ppft>=1.6.6.4 in c:\\users\\cristiana\\anaconda3\\lib\\site-packages (from pathos->cobamp->mewpy) (1.6.6.4)\n",
      "Requirement already satisfied: pox>=0.3.0 in c:\\users\\cristiana\\anaconda3\\lib\\site-packages (from pathos->cobamp->mewpy) (0.3.0)\n",
      "Requirement already satisfied: dill>=0.3.4 in c:\\users\\cristiana\\anaconda3\\lib\\site-packages (from pathos->cobamp->mewpy) (0.3.4)\n"
     ]
    }
   ],
   "source": [
    "pip install mewpy"
   ]
  },
  {
   "cell_type": "markdown",
   "id": "fcc7300c-46c9-46b9-bcdc-aa2039f36ba3",
   "metadata": {},
   "source": [
    "Instalação Gurobi"
   ]
  },
  {
   "cell_type": "code",
   "execution_count": 18,
   "id": "9c17fec3-d9cc-43c2-bd79-5d43758b10f9",
   "metadata": {
    "collapsed": true,
    "jupyter": {
     "outputs_hidden": true
    },
    "tags": []
   },
   "outputs": [
    {
     "name": "stderr",
     "output_type": "stream",
     "text": [
      "Warning: 'http://conda.anaconda.org/gurobi' already in 'channels' list, moving to the top\n"
     ]
    },
    {
     "name": "stdout",
     "output_type": "stream",
     "text": [
      "\n",
      "Note: you may need to restart the kernel to use updated packages.\n"
     ]
    }
   ],
   "source": [
    "conda config --add channels http://conda.anaconda.org/gurobi"
   ]
  },
  {
   "cell_type": "code",
   "execution_count": 19,
   "id": "7157f445-5cf9-49bf-b308-b779121ec620",
   "metadata": {
    "collapsed": true,
    "jupyter": {
     "outputs_hidden": true
    },
    "tags": []
   },
   "outputs": [
    {
     "name": "stdout",
     "output_type": "stream",
     "text": [
      "Collecting package metadata (current_repodata.json): ...working... done\n",
      "Solving environment: ...working... done\n",
      "\n",
      "## Package Plan ##\n",
      "\n",
      "  environment location: C:\\Users\\Cristiana\\anaconda3\n",
      "Note: you may need to restart the kernel to use updated packages.\n",
      "\n",
      "\n",
      "  added / updated specs:\n",
      "    - gurobi\n",
      "\n",
      "\n",
      "The following packages will be SUPERSEDED by a higher-priority channel:\n",
      "\n",
      "  conda              conda-forge::conda-4.11.0-py38haa244f~ --> pkgs/main::conda-4.11.0-py38haa95532_0\n",
      "\n",
      "\n",
      "Preparing transaction: ...working... done\n",
      "Verifying transaction: ...working... done\n",
      "Executing transaction: ...working... done\n"
     ]
    }
   ],
   "source": [
    "conda install gurobi"
   ]
  },
  {
   "cell_type": "code",
   "execution_count": 20,
   "id": "9fc20206-eede-48ae-80b9-f8b6c2fef054",
   "metadata": {
    "collapsed": true,
    "jupyter": {
     "outputs_hidden": true
    },
    "tags": []
   },
   "outputs": [
    {
     "name": "stdout",
     "output_type": "stream",
     "text": [
      "Requirement already satisfied: gurobipy in c:\\users\\cristiana\\anaconda3\\lib\\site-packages (9.5.0)\n",
      "Note: you may need to restart the kernel to use updated packages.\n"
     ]
    }
   ],
   "source": [
    "pip install gurobipy"
   ]
  },
  {
   "cell_type": "code",
   "execution_count": 1,
   "id": "3d8b3a37-d6a7-413c-bb05-1519ad62fd28",
   "metadata": {
    "tags": []
   },
   "outputs": [
    {
     "name": "stdout",
     "output_type": "stream",
     "text": [
      "Set parameter Username\n",
      "Academic license - for non-commercial use only - expires 2022-12-11\n"
     ]
    }
   ],
   "source": [
    "from mewpy.simulation import set_default_solver\n",
    "set_default_solver('gurobi')"
   ]
  },
  {
   "cell_type": "markdown",
   "id": "204331c3-7080-48e8-9bec-8a2ab2626f21",
   "metadata": {},
   "source": [
    "### Importação do modelo usando COBRApy"
   ]
  },
  {
   "cell_type": "code",
   "execution_count": 2,
   "id": "99b0ed32-c1c7-4d93-b44e-7d74b943991f",
   "metadata": {},
   "outputs": [],
   "source": [
    "from cobra.io import read_sbml_model\n",
    "model = read_sbml_model('iML1515.xml')"
   ]
  },
  {
   "cell_type": "markdown",
   "id": "a84cbfb2-dce7-4a40-abe5-1844086bbfcc",
   "metadata": {},
   "source": [
    "### Contrução da simualação"
   ]
  },
  {
   "cell_type": "code",
   "execution_count": 3,
   "id": "1bf0f8ed-03f4-4bda-9cc2-d1ed96dbd224",
   "metadata": {
    "tags": []
   },
   "outputs": [],
   "source": [
    "from mewpy.simulation import get_simulator\n",
    "simul = get_simulator(model)"
   ]
  },
  {
   "cell_type": "code",
   "execution_count": 4,
   "id": "ab0ffe3a-6be4-4fe5-9549-5c98db9771a2",
   "metadata": {},
   "outputs": [
    {
     "name": "stdout",
     "output_type": "stream",
     "text": [
      "Metabolites: 1877\n",
      "Reactions: 2712\n",
      "Genes: 1516\n"
     ]
    }
   ],
   "source": [
    "simul.summary()"
   ]
  },
  {
   "cell_type": "markdown",
   "id": "5ce70c7d-6d42-4b6c-b9eb-2b489dedc0e6",
   "metadata": {},
   "source": [
    "### 1. Qual é a produção wild-type de malato?"
   ]
  },
  {
   "cell_type": "markdown",
   "id": "46046430-1c8e-4b0b-b451-2c90e5b45b34",
   "metadata": {},
   "source": [
    "De forma a calcular a produção wild-type de malato considerou-se o estado de crescimento ótimo de E. coli. Para isso, procedeu-se à simulação da maximização da biomassa, tendo em conta as condições ambientais estabelecidas (consumo de oxigénio e glucose de 0 e 15 mmol/gDW/h, respetivamente)."
   ]
  },
  {
   "cell_type": "markdown",
   "id": "35289b31-fdb0-4f3a-95c5-cbee98f43577",
   "metadata": {},
   "source": [
    "IDs dos compostos de interesse"
   ]
  },
  {
   "cell_type": "code",
   "execution_count": 5,
   "id": "e44eb6e7-c910-4516-b1e3-93135bb1f049",
   "metadata": {},
   "outputs": [
    {
     "data": {
      "text/html": [
       "<div>\n",
       "<style scoped>\n",
       "    .dataframe tbody tr th:only-of-type {\n",
       "        vertical-align: middle;\n",
       "    }\n",
       "\n",
       "    .dataframe tbody tr th {\n",
       "        vertical-align: top;\n",
       "    }\n",
       "\n",
       "    .dataframe thead th {\n",
       "        text-align: right;\n",
       "    }\n",
       "</style>\n",
       "<table border=\"1\" class=\"dataframe\">\n",
       "  <thead>\n",
       "    <tr style=\"text-align: right;\">\n",
       "      <th></th>\n",
       "      <th>id</th>\n",
       "      <th>name</th>\n",
       "      <th>lb</th>\n",
       "      <th>ub</th>\n",
       "      <th>stoichiometry</th>\n",
       "      <th>gpr</th>\n",
       "    </tr>\n",
       "  </thead>\n",
       "  <tbody>\n",
       "    <tr>\n",
       "      <th>0</th>\n",
       "      <td>BIOMASS_Ec_iML1515_core_75p37M</td>\n",
       "      <td>E. coli biomass objective function (iML1515) -...</td>\n",
       "      <td>0.0</td>\n",
       "      <td>1000.0</td>\n",
       "      <td>{'10fthf_c': -0.000223, '2fe2s_c': -2.6e-05, '...</td>\n",
       "      <td></td>\n",
       "    </tr>\n",
       "    <tr>\n",
       "      <th>1</th>\n",
       "      <td>BIOMASS_Ec_iML1515_WT_75p37M</td>\n",
       "      <td>E. coli biomass objective function (iML1515) -...</td>\n",
       "      <td>0.0</td>\n",
       "      <td>1000.0</td>\n",
       "      <td>{'10fthf_c': -0.000223, '2dmmql8_c': -0.000223...</td>\n",
       "      <td></td>\n",
       "    </tr>\n",
       "  </tbody>\n",
       "</table>\n",
       "</div>"
      ],
      "text/plain": [
       "                               id  \\\n",
       "0  BIOMASS_Ec_iML1515_core_75p37M   \n",
       "1    BIOMASS_Ec_iML1515_WT_75p37M   \n",
       "\n",
       "                                                name   lb      ub  \\\n",
       "0  E. coli biomass objective function (iML1515) -...  0.0  1000.0   \n",
       "1  E. coli biomass objective function (iML1515) -...  0.0  1000.0   \n",
       "\n",
       "                                       stoichiometry gpr  \n",
       "0  {'10fthf_c': -0.000223, '2fe2s_c': -2.6e-05, '...      \n",
       "1  {'10fthf_c': -0.000223, '2dmmql8_c': -0.000223...      "
      ]
     },
     "execution_count": 5,
     "metadata": {},
     "output_type": "execute_result"
    }
   ],
   "source": [
    "simul.find('BIOMASS')"
   ]
  },
  {
   "cell_type": "code",
   "execution_count": 6,
   "id": "10485925-c872-4090-b0de-d5cad0e3ac09",
   "metadata": {},
   "outputs": [
    {
     "data": {
      "text/html": [
       "<div>\n",
       "<style scoped>\n",
       "    .dataframe tbody tr th:only-of-type {\n",
       "        vertical-align: middle;\n",
       "    }\n",
       "\n",
       "    .dataframe tbody tr th {\n",
       "        vertical-align: top;\n",
       "    }\n",
       "\n",
       "    .dataframe thead th {\n",
       "        text-align: right;\n",
       "    }\n",
       "</style>\n",
       "<table border=\"1\" class=\"dataframe\">\n",
       "  <thead>\n",
       "    <tr style=\"text-align: right;\">\n",
       "      <th></th>\n",
       "      <th>id</th>\n",
       "      <th>name</th>\n",
       "      <th>lb</th>\n",
       "      <th>ub</th>\n",
       "      <th>stoichiometry</th>\n",
       "      <th>gpr</th>\n",
       "    </tr>\n",
       "  </thead>\n",
       "  <tbody>\n",
       "    <tr>\n",
       "      <th>0</th>\n",
       "      <td>EX_mal__L_e</td>\n",
       "      <td>L-Malate exchange</td>\n",
       "      <td>0.0</td>\n",
       "      <td>1000.0</td>\n",
       "      <td>{'mal__L_e': -1.0}</td>\n",
       "      <td></td>\n",
       "    </tr>\n",
       "  </tbody>\n",
       "</table>\n",
       "</div>"
      ],
      "text/plain": [
       "            id               name   lb      ub       stoichiometry gpr\n",
       "0  EX_mal__L_e  L-Malate exchange  0.0  1000.0  {'mal__L_e': -1.0}    "
      ]
     },
     "execution_count": 6,
     "metadata": {},
     "output_type": "execute_result"
    }
   ],
   "source": [
    "simul.find('EX_mal__L_e')"
   ]
  },
  {
   "cell_type": "code",
   "execution_count": 7,
   "id": "bf8adaea-00b4-497c-be7c-c36d8ea032e4",
   "metadata": {},
   "outputs": [
    {
     "data": {
      "text/html": [
       "<div>\n",
       "<style scoped>\n",
       "    .dataframe tbody tr th:only-of-type {\n",
       "        vertical-align: middle;\n",
       "    }\n",
       "\n",
       "    .dataframe tbody tr th {\n",
       "        vertical-align: top;\n",
       "    }\n",
       "\n",
       "    .dataframe thead th {\n",
       "        text-align: right;\n",
       "    }\n",
       "</style>\n",
       "<table border=\"1\" class=\"dataframe\">\n",
       "  <thead>\n",
       "    <tr style=\"text-align: right;\">\n",
       "      <th></th>\n",
       "      <th>id</th>\n",
       "      <th>name</th>\n",
       "      <th>lb</th>\n",
       "      <th>ub</th>\n",
       "      <th>stoichiometry</th>\n",
       "      <th>gpr</th>\n",
       "    </tr>\n",
       "  </thead>\n",
       "  <tbody>\n",
       "    <tr>\n",
       "      <th>0</th>\n",
       "      <td>EX_co2_e</td>\n",
       "      <td>CO2 exchange</td>\n",
       "      <td>-1000.0</td>\n",
       "      <td>1000.0</td>\n",
       "      <td>{'co2_e': -1.0}</td>\n",
       "      <td></td>\n",
       "    </tr>\n",
       "    <tr>\n",
       "      <th>1</th>\n",
       "      <td>EX_h2o2_e</td>\n",
       "      <td>Hydrogen peroxide exchange</td>\n",
       "      <td>0.0</td>\n",
       "      <td>1000.0</td>\n",
       "      <td>{'h2o2_e': -1.0}</td>\n",
       "      <td></td>\n",
       "    </tr>\n",
       "    <tr>\n",
       "      <th>2</th>\n",
       "      <td>EX_no2_e</td>\n",
       "      <td>Nitrite exchange</td>\n",
       "      <td>0.0</td>\n",
       "      <td>1000.0</td>\n",
       "      <td>{'no2_e': -1.0}</td>\n",
       "      <td></td>\n",
       "    </tr>\n",
       "    <tr>\n",
       "      <th>3</th>\n",
       "      <td>EX_so2_e</td>\n",
       "      <td>Sulfur dioxide exchange</td>\n",
       "      <td>0.0</td>\n",
       "      <td>1000.0</td>\n",
       "      <td>{'so2_e': -1.0}</td>\n",
       "      <td></td>\n",
       "    </tr>\n",
       "    <tr>\n",
       "      <th>4</th>\n",
       "      <td>EX_o2_e</td>\n",
       "      <td>O2 exchange</td>\n",
       "      <td>-1000.0</td>\n",
       "      <td>1000.0</td>\n",
       "      <td>{'o2_e': -1.0}</td>\n",
       "      <td></td>\n",
       "    </tr>\n",
       "    <tr>\n",
       "      <th>5</th>\n",
       "      <td>EX_o2s_e</td>\n",
       "      <td>Superoxide anion exchange</td>\n",
       "      <td>0.0</td>\n",
       "      <td>1000.0</td>\n",
       "      <td>{'o2s_e': -1.0}</td>\n",
       "      <td></td>\n",
       "    </tr>\n",
       "  </tbody>\n",
       "</table>\n",
       "</div>"
      ],
      "text/plain": [
       "          id                        name      lb      ub     stoichiometry gpr\n",
       "0   EX_co2_e                CO2 exchange -1000.0  1000.0   {'co2_e': -1.0}    \n",
       "1  EX_h2o2_e  Hydrogen peroxide exchange     0.0  1000.0  {'h2o2_e': -1.0}    \n",
       "2   EX_no2_e            Nitrite exchange     0.0  1000.0   {'no2_e': -1.0}    \n",
       "3   EX_so2_e     Sulfur dioxide exchange     0.0  1000.0   {'so2_e': -1.0}    \n",
       "4    EX_o2_e                 O2 exchange -1000.0  1000.0    {'o2_e': -1.0}    \n",
       "5   EX_o2s_e   Superoxide anion exchange     0.0  1000.0   {'o2s_e': -1.0}    "
      ]
     },
     "execution_count": 7,
     "metadata": {},
     "output_type": "execute_result"
    }
   ],
   "source": [
    "simul.find('o2')"
   ]
  },
  {
   "cell_type": "code",
   "execution_count": 8,
   "id": "a5cc1d1a-f771-4068-9e79-73678ed3a529",
   "metadata": {},
   "outputs": [
    {
     "data": {
      "text/html": [
       "<div>\n",
       "<style scoped>\n",
       "    .dataframe tbody tr th:only-of-type {\n",
       "        vertical-align: middle;\n",
       "    }\n",
       "\n",
       "    .dataframe tbody tr th {\n",
       "        vertical-align: top;\n",
       "    }\n",
       "\n",
       "    .dataframe thead th {\n",
       "        text-align: right;\n",
       "    }\n",
       "</style>\n",
       "<table border=\"1\" class=\"dataframe\">\n",
       "  <thead>\n",
       "    <tr style=\"text-align: right;\">\n",
       "      <th></th>\n",
       "      <th>id</th>\n",
       "      <th>name</th>\n",
       "      <th>lb</th>\n",
       "      <th>ub</th>\n",
       "      <th>stoichiometry</th>\n",
       "      <th>gpr</th>\n",
       "    </tr>\n",
       "  </thead>\n",
       "  <tbody>\n",
       "    <tr>\n",
       "      <th>0</th>\n",
       "      <td>EX_glcn_e</td>\n",
       "      <td>D-Gluconate exchange</td>\n",
       "      <td>0.0</td>\n",
       "      <td>1000.0</td>\n",
       "      <td>{'glcn_e': -1.0}</td>\n",
       "      <td></td>\n",
       "    </tr>\n",
       "    <tr>\n",
       "      <th>1</th>\n",
       "      <td>EX_glc__D_e</td>\n",
       "      <td>D-Glucose exchange</td>\n",
       "      <td>-10.0</td>\n",
       "      <td>1000.0</td>\n",
       "      <td>{'glc__D_e': -1.0}</td>\n",
       "      <td></td>\n",
       "    </tr>\n",
       "    <tr>\n",
       "      <th>2</th>\n",
       "      <td>EX_glcur_e</td>\n",
       "      <td>D-Glucuronate exchange</td>\n",
       "      <td>0.0</td>\n",
       "      <td>1000.0</td>\n",
       "      <td>{'glcur_e': -1.0}</td>\n",
       "      <td></td>\n",
       "    </tr>\n",
       "    <tr>\n",
       "      <th>3</th>\n",
       "      <td>EX_2ddglcn_e</td>\n",
       "      <td>2-Dehydro-3-deoxy-D-gluconate exchange</td>\n",
       "      <td>0.0</td>\n",
       "      <td>1000.0</td>\n",
       "      <td>{'2ddglcn_e': -1.0}</td>\n",
       "      <td></td>\n",
       "    </tr>\n",
       "    <tr>\n",
       "      <th>4</th>\n",
       "      <td>EX_glcr_e</td>\n",
       "      <td>D-Glucarate exchange</td>\n",
       "      <td>0.0</td>\n",
       "      <td>1000.0</td>\n",
       "      <td>{'glcr_e': -1.0}</td>\n",
       "      <td></td>\n",
       "    </tr>\n",
       "    <tr>\n",
       "      <th>5</th>\n",
       "      <td>EX_glcur1p_e</td>\n",
       "      <td>D-Glucuronate 1-phosphate exchange</td>\n",
       "      <td>0.0</td>\n",
       "      <td>1000.0</td>\n",
       "      <td>{'glcur1p_e': -1.0}</td>\n",
       "      <td></td>\n",
       "    </tr>\n",
       "    <tr>\n",
       "      <th>6</th>\n",
       "      <td>EX_udpglcur_e</td>\n",
       "      <td>UDP-D-glucuronate exchange</td>\n",
       "      <td>0.0</td>\n",
       "      <td>1000.0</td>\n",
       "      <td>{'udpglcur_e': -1.0}</td>\n",
       "      <td></td>\n",
       "    </tr>\n",
       "    <tr>\n",
       "      <th>7</th>\n",
       "      <td>EX_5dglcn_e</td>\n",
       "      <td>5-Dehydro-D-gluconate exchange</td>\n",
       "      <td>0.0</td>\n",
       "      <td>1000.0</td>\n",
       "      <td>{'5dglcn_e': -1.0}</td>\n",
       "      <td></td>\n",
       "    </tr>\n",
       "    <tr>\n",
       "      <th>8</th>\n",
       "      <td>EX_2dglc_e</td>\n",
       "      <td>2-Deoxy-D-glucose exchange</td>\n",
       "      <td>0.0</td>\n",
       "      <td>1000.0</td>\n",
       "      <td>{'2dglc_e': -1.0}</td>\n",
       "      <td></td>\n",
       "    </tr>\n",
       "    <tr>\n",
       "      <th>9</th>\n",
       "      <td>EX_metglcur_e</td>\n",
       "      <td>1-O-methyl-Beta-D-glucuronate exchange</td>\n",
       "      <td>0.0</td>\n",
       "      <td>1000.0</td>\n",
       "      <td>{'metglcur_e': -1.0}</td>\n",
       "      <td></td>\n",
       "    </tr>\n",
       "  </tbody>\n",
       "</table>\n",
       "</div>"
      ],
      "text/plain": [
       "              id                                    name    lb      ub  \\\n",
       "0      EX_glcn_e                    D-Gluconate exchange   0.0  1000.0   \n",
       "1    EX_glc__D_e                      D-Glucose exchange -10.0  1000.0   \n",
       "2     EX_glcur_e                  D-Glucuronate exchange   0.0  1000.0   \n",
       "3   EX_2ddglcn_e  2-Dehydro-3-deoxy-D-gluconate exchange   0.0  1000.0   \n",
       "4      EX_glcr_e                    D-Glucarate exchange   0.0  1000.0   \n",
       "5   EX_glcur1p_e      D-Glucuronate 1-phosphate exchange   0.0  1000.0   \n",
       "6  EX_udpglcur_e              UDP-D-glucuronate exchange   0.0  1000.0   \n",
       "7    EX_5dglcn_e          5-Dehydro-D-gluconate exchange   0.0  1000.0   \n",
       "8     EX_2dglc_e              2-Deoxy-D-glucose exchange   0.0  1000.0   \n",
       "9  EX_metglcur_e  1-O-methyl-Beta-D-glucuronate exchange   0.0  1000.0   \n",
       "\n",
       "          stoichiometry gpr  \n",
       "0      {'glcn_e': -1.0}      \n",
       "1    {'glc__D_e': -1.0}      \n",
       "2     {'glcur_e': -1.0}      \n",
       "3   {'2ddglcn_e': -1.0}      \n",
       "4      {'glcr_e': -1.0}      \n",
       "5   {'glcur1p_e': -1.0}      \n",
       "6  {'udpglcur_e': -1.0}      \n",
       "7    {'5dglcn_e': -1.0}      \n",
       "8     {'2dglc_e': -1.0}      \n",
       "9  {'metglcur_e': -1.0}      "
      ]
     },
     "execution_count": 8,
     "metadata": {},
     "output_type": "execute_result"
    }
   ],
   "source": [
    "simul.find('glc')"
   ]
  },
  {
   "cell_type": "markdown",
   "id": "a1d37aa1-03ce-45ae-ba3b-5b1100dfe75c",
   "metadata": {},
   "source": [
    "Condições ambientais"
   ]
  },
  {
   "cell_type": "code",
   "execution_count": 9,
   "id": "0854f81b-b135-47da-bc73-1bee73dd94ca",
   "metadata": {},
   "outputs": [],
   "source": [
    "envcond = {'EX_glc__D_e': (-15, 999999.0), 'EX_o2_e': (0, 999999.0)}"
   ]
  },
  {
   "cell_type": "code",
   "execution_count": 10,
   "id": "22e37615-d8f9-4dbc-9a2b-bade82bf5228",
   "metadata": {},
   "outputs": [],
   "source": [
    "simul = get_simulator(model, envcond=envcond)"
   ]
  },
  {
   "cell_type": "markdown",
   "id": "c8b017d7-adbe-4f53-af13-f69bea071ab0",
   "metadata": {},
   "source": [
    "----------------"
   ]
  },
  {
   "cell_type": "markdown",
   "id": "5a07f939-03e1-4d1e-9898-261199022ca1",
   "metadata": {},
   "source": [
    "Para biomass = 'BIOMASS_Ec_iML1515_WT_75p37M'"
   ]
  },
  {
   "cell_type": "code",
   "execution_count": 11,
   "id": "fc09917d-872c-47cb-9ae0-0e99ce711413",
   "metadata": {},
   "outputs": [],
   "source": [
    "simul.objective = 'BIOMASS_Ec_iML1515_WT_75p37M'"
   ]
  },
  {
   "cell_type": "code",
   "execution_count": 12,
   "id": "1129f2c9-fd69-4901-b1a7-8ee96bd9e1ba",
   "metadata": {},
   "outputs": [
    {
     "data": {
      "text/plain": [
       "{'BIOMASS_Ec_iML1515_WT_75p37M': 1.0}"
      ]
     },
     "execution_count": 12,
     "metadata": {},
     "output_type": "execute_result"
    }
   ],
   "source": [
    "simul.objective"
   ]
  },
  {
   "cell_type": "code",
   "execution_count": 13,
   "id": "8f8342f3-49ff-4990-8fdd-1c1fb4f623be",
   "metadata": {},
   "outputs": [
    {
     "data": {
      "text/plain": [
       "objective: 0.0\n",
       "Status: OPTIMAL\n",
       "Constraints: OrderedDict([('EX_glc__D_e', (-15, 999999.0)), ('EX_o2_e', (0, 999999.0))])\n",
       "Method:FBA"
      ]
     },
     "execution_count": 13,
     "metadata": {},
     "output_type": "execute_result"
    }
   ],
   "source": [
    "result_a1 = simul.simulate(method = 'FBA')\n",
    "result_a1"
   ]
  },
  {
   "cell_type": "code",
   "execution_count": 14,
   "id": "3acb1e45-9931-4f3d-9956-10286c90f131",
   "metadata": {},
   "outputs": [
    {
     "data": {
      "text/plain": [
       "0.0"
      ]
     },
     "execution_count": 14,
     "metadata": {},
     "output_type": "execute_result"
    }
   ],
   "source": [
    "result_a1.fluxes['EX_mal__L_e']"
   ]
  },
  {
   "cell_type": "code",
   "execution_count": 15,
   "id": "670f3ff9-507f-4f49-9f4a-505aadcfc539",
   "metadata": {},
   "outputs": [
    {
     "name": "stderr",
     "output_type": "stream",
     "text": [
      "C:\\Users\\Cristiana\\anaconda3\\lib\\site-packages\\mewpy\\visualization\\envelope.py:126: UserWarning: Attempting to set identical left == right == 0.0 results in singular transformations; automatically expanding.\n",
      "  ax.set_xlim((xmin - dx, xmax + dx))\n"
     ]
    },
    {
     "data": {
      "text/plain": [
       "<matplotlib.axes._subplots.AxesSubplot at 0x28c52367b50>"
      ]
     },
     "execution_count": 15,
     "metadata": {},
     "output_type": "execute_result"
    },
    {
     "data": {
      "image/png": "[encoded data removed]",
      "text/plain": [
       "<Figure size 432x288 with 1 Axes>"
      ]
     },
     "metadata": {
      "needs_background": "light"
     },
     "output_type": "display_data"
    }
   ],
   "source": [
    "%matplotlib inline\n",
    "from mewpy.visualization.envelope import plot_flux_envelope\n",
    "\n",
    "plot_flux_envelope(simul,'BIOMASS_Ec_iML1515_WT_75p37M','EX_mal__L_e')"
   ]
  },
  {
   "cell_type": "markdown",
   "id": "ab1a91f6-6663-4640-b32d-c238e95f5c40",
   "metadata": {},
   "source": [
    "Utilizando a variável biomassa = 'BIOMASS_Ec_iML1515_WT_75p37M', obtemos uma produção de malato de 0 mmol/gDW/h."
   ]
  },
  {
   "cell_type": "markdown",
   "id": "b967d245-e597-448b-b03a-cd26ac04b247",
   "metadata": {},
   "source": [
    "------------------------"
   ]
  },
  {
   "cell_type": "markdown",
   "id": "fb875a53-519b-4b9f-adff-bc35636a3daa",
   "metadata": {},
   "source": [
    "Para biomass = 'BIOMASS_Ec_iML1515_core_75p37M'"
   ]
  },
  {
   "cell_type": "code",
   "execution_count": 16,
   "id": "c9e0705e-5b04-4199-b31e-b75430a855f9",
   "metadata": {},
   "outputs": [],
   "source": [
    "simul.objective = 'BIOMASS_Ec_iML1515_core_75p37M'"
   ]
  },
  {
   "cell_type": "code",
   "execution_count": 17,
   "id": "1c808632-e041-4109-9d80-2d0186096f22",
   "metadata": {},
   "outputs": [
    {
     "data": {
      "text/plain": [
       "{'BIOMASS_Ec_iML1515_core_75p37M': 1.0}"
      ]
     },
     "execution_count": 17,
     "metadata": {},
     "output_type": "execute_result"
    }
   ],
   "source": [
    "simul.objective"
   ]
  },
  {
   "cell_type": "code",
   "execution_count": 18,
   "id": "b5795b4e-eec6-40e7-ae22-d522df65a85a",
   "metadata": {},
   "outputs": [
    {
     "data": {
      "text/plain": [
       "objective: 0.26609812519117565\n",
       "Status: OPTIMAL\n",
       "Constraints: OrderedDict([('EX_glc__D_e', (-15, 999999.0)), ('EX_o2_e', (0, 999999.0))])\n",
       "Method:FBA"
      ]
     },
     "execution_count": 18,
     "metadata": {},
     "output_type": "execute_result"
    }
   ],
   "source": [
    "result_a2 = simul.simulate(method='FBA')\n",
    "result_a2"
   ]
  },
  {
   "cell_type": "code",
   "execution_count": 19,
   "id": "4677b144-97c0-4770-a8b8-56caa07827e7",
   "metadata": {},
   "outputs": [
    {
     "data": {
      "text/plain": [
       "0.0"
      ]
     },
     "execution_count": 19,
     "metadata": {},
     "output_type": "execute_result"
    }
   ],
   "source": [
    "result_a2.fluxes['EX_mal__L_e']"
   ]
  },
  {
   "cell_type": "code",
   "execution_count": 20,
   "id": "1808c986-1dc5-4c2e-a4fe-6af9c109298e",
   "metadata": {},
   "outputs": [
    {
     "data": {
      "text/plain": [
       "0.26609812519117565"
      ]
     },
     "execution_count": 20,
     "metadata": {},
     "output_type": "execute_result"
    }
   ],
   "source": [
    "result_a2.fluxes['BIOMASS_Ec_iML1515_core_75p37M']"
   ]
  },
  {
   "cell_type": "code",
   "execution_count": 21,
   "id": "69009abd-7b65-4728-8475-11b2c1c5b0a6",
   "metadata": {},
   "outputs": [
    {
     "data": {
      "text/plain": [
       "<matplotlib.axes._subplots.AxesSubplot at 0x28c51b4d8b0>"
      ]
     },
     "execution_count": 21,
     "metadata": {},
     "output_type": "execute_result"
    },
    {
     "data": {
      "image/png": "[encoded data removed]",
      "text/plain": [
       "<Figure size 432x288 with 1 Axes>"
      ]
     },
     "metadata": {
      "needs_background": "light"
     },
     "output_type": "display_data"
    }
   ],
   "source": [
    "%matplotlib inline\n",
    "from mewpy.visualization.envelope import plot_flux_envelope\n",
    "\n",
    "plot_flux_envelope(simul,'BIOMASS_Ec_iML1515_core_75p37M','EX_mal__L_e')"
   ]
  },
  {
   "cell_type": "markdown",
   "id": "85b098c6-5b32-4a6c-b2f0-10c1ba5636fc",
   "metadata": {},
   "source": [
    "Se usarmosa variável 'BIOMASS_Ec_iML1515_core_75p37M' como objetivo da simulação:\n",
    "\n",
    "Quando o organismo otimiza a produção de biomassa, não há produz malato.\n"
   ]
  },
  {
   "cell_type": "markdown",
   "id": "a91e11f8-0e32-4577-98d0-40ea6783e3f6",
   "metadata": {},
   "source": [
    "### 2. Qual é a capacidade de produção máxima de malato?"
   ]
  },
  {
   "cell_type": "code",
   "execution_count": 22,
   "id": "a78b59d4-022c-42d5-bf7b-dceb28dc7632",
   "metadata": {},
   "outputs": [
    {
     "data": {
      "text/plain": [
       "{'EX_mal__L_e': 1.0}"
      ]
     },
     "execution_count": 22,
     "metadata": {},
     "output_type": "execute_result"
    }
   ],
   "source": [
    "simul.objective = 'EX_mal__L_e'\n",
    "simul.objective"
   ]
  },
  {
   "cell_type": "code",
   "execution_count": 23,
   "id": "6eb691c2-b72a-4271-9c1a-572dffd6ef88",
   "metadata": {},
   "outputs": [
    {
     "data": {
      "text/plain": [
       "objective: 17.19499999999995\n",
       "Status: OPTIMAL\n",
       "Constraints: OrderedDict([('EX_glc__D_e', (-15, 999999.0)), ('EX_o2_e', (0, 999999.0))])\n",
       "Method:FBA"
      ]
     },
     "execution_count": 23,
     "metadata": {},
     "output_type": "execute_result"
    }
   ],
   "source": [
    "result_b = simul.simulate(method = 'FBA')\n",
    "result_b"
   ]
  },
  {
   "cell_type": "code",
   "execution_count": 24,
   "id": "d03c95c3-c64f-49cf-bcd5-ac5e7df34825",
   "metadata": {},
   "outputs": [
    {
     "data": {
      "text/plain": [
       "17.19499999999995"
      ]
     },
     "execution_count": 24,
     "metadata": {},
     "output_type": "execute_result"
    }
   ],
   "source": [
    "result_b.fluxes['EX_mal__L_e']"
   ]
  },
  {
   "cell_type": "code",
   "execution_count": 25,
   "id": "865a42c0-ae20-4d6b-ac69-b1e2f2e68462",
   "metadata": {},
   "outputs": [
    {
     "data": {
      "text/plain": [
       "<matplotlib.axes._subplots.AxesSubplot at 0x28c51b85e50>"
      ]
     },
     "execution_count": 25,
     "metadata": {},
     "output_type": "execute_result"
    },
    {
     "data": {
      "image/png": "[encoded data removed]",
      "text/plain": [
       "<Figure size 432x288 with 1 Axes>"
      ]
     },
     "metadata": {
      "needs_background": "light"
     },
     "output_type": "display_data"
    }
   ],
   "source": [
    "%matplotlib inline\n",
    "from mewpy.visualization.envelope import plot_flux_envelope\n",
    "\n",
    "plot_flux_envelope(simul,'EX_mal__L_e','BIOMASS_Ec_iML1515_core_75p37M')"
   ]
  },
  {
   "cell_type": "markdown",
   "id": "cea88175-211d-4a72-9b3f-dce8ae608ce2",
   "metadata": {},
   "source": [
    "A produção de malato máxima não é possível realisticamente, uma vez que é necessário haver uma produção mínima de biomassa. Assim, vai-se utilizar uma nova constraint: valor da biomassa com minimo de 10% do seu valor máximo."
   ]
  },
  {
   "cell_type": "code",
   "execution_count": 26,
   "id": "896b7263-ffce-4afe-91d7-b66065c44b51",
   "metadata": {},
   "outputs": [
    {
     "data": {
      "text/plain": [
       "0.026609812519117565"
      ]
     },
     "execution_count": 26,
     "metadata": {},
     "output_type": "execute_result"
    }
   ],
   "source": [
    "min_biomassa = result_a2.fluxes['BIOMASS_Ec_iML1515_core_75p37M']*0.1\n",
    "min_biomassa"
   ]
  },
  {
   "cell_type": "code",
   "execution_count": 27,
   "id": "467af41b-2d67-47b2-ac30-9cfa5f27cd21",
   "metadata": {},
   "outputs": [],
   "source": [
    "envcond2 = {'EX_glc__D_e': (-15.0, 100000.0), 'EX_o2_e':(0,0), 'BIOMASS_Ec_iML1515_core_75p37M': (min_biomassa, 10000)}\n",
    "\n",
    "simul_env2 = get_simulator(model,envcond=envcond2)"
   ]
  },
  {
   "cell_type": "code",
   "execution_count": 28,
   "id": "c7943a65-764e-426b-847e-f6c84afec92a",
   "metadata": {},
   "outputs": [
    {
     "data": {
      "text/plain": [
       "objective: 15.635751486565097\n",
       "Status: OPTIMAL\n",
       "Constraints: OrderedDict([('EX_glc__D_e', (-15.0, 100000.0)), ('EX_o2_e', (0, 0)), ('BIOMASS_Ec_iML1515_core_75p37M', (0.026609812519117565, 10000))])\n",
       "Method:FBA"
      ]
     },
     "execution_count": 28,
     "metadata": {},
     "output_type": "execute_result"
    }
   ],
   "source": [
    "result_b_env2 = simul_env2.simulate(method = 'FBA')\n",
    "result_b_env2"
   ]
  },
  {
   "cell_type": "code",
   "execution_count": 29,
   "id": "850fec5c-6b8d-491c-bd4f-b86e8e979522",
   "metadata": {},
   "outputs": [
    {
     "data": {
      "text/plain": [
       "<matplotlib.axes._subplots.AxesSubplot at 0x28c51b09820>"
      ]
     },
     "execution_count": 29,
     "metadata": {},
     "output_type": "execute_result"
    },
    {
     "data": {
      "image/png": "[encoded data removed]",
      "text/plain": [
       "<Figure size 432x288 with 1 Axes>"
      ]
     },
     "metadata": {
      "needs_background": "light"
     },
     "output_type": "display_data"
    }
   ],
   "source": [
    "%matplotlib inline\n",
    "from mewpy.visualization.envelope import plot_flux_envelope\n",
    "\n",
    "plot_flux_envelope(simul_env2,'EX_mal__L_e','BIOMASS_Ec_iML1515_core_75p37M',)"
   ]
  },
  {
   "cell_type": "markdown",
   "id": "080f929a-659c-4cdd-8774-1512524c6dd6",
   "metadata": {},
   "source": [
    "A produção máxima de malato corresponde a uma concentração de 15.6 mmol/gDW/h, nas condições ambientais e de biomassa descritas."
   ]
  },
  {
   "cell_type": "markdown",
   "id": "05b240ab-3c78-4883-aa86-066b64775836",
   "metadata": {},
   "source": [
    "### 3. Usar diferentes funções objetivo de modo a melhorar a produção de malato, considerando que as células têm como objetivo o seu máximo crescimento."
   ]
  },
  {
   "cell_type": "markdown",
   "id": "957615a5-4fc0-4a07-b89f-89edd7c39448",
   "metadata": {},
   "source": [
    "#### 3a. Avaliar se as deleções de um único gene aumentam a produção de malato. Ordenar os mutantes obtidos de acordo com a capacidade de produção do composto e desempenho de crescimento."
   ]
  },
  {
   "cell_type": "code",
   "execution_count": 3,
   "id": "9e464137-c789-4108-b14d-4c52965dc557",
   "metadata": {},
   "outputs": [],
   "source": [
    "from mewpy.optimization.evaluation import BPCY, WYIELD\n",
    "from mewpy.problems import GKOProblem\n",
    "from mewpy.optimization import EA\n",
    "from mewpy.simulation import SimulationMethod\n",
    "\n",
    "evaluator_1 = BPCY(BIOMASS_ID, PRODUCT_ID, method = SimulationMethod.lMOMA)\n",
    "evaluator_2 = WYIELD(BIOMASS_ID, PRODUCT_ID)\n",
    "\n",
    "problem = GKOProblem(reframed_model, fevaluation=[evaluator_1, evaluator_2], envcond=envcond, candidate_min_size=1, candidate_max_size=1)\n",
    "\n",
    "ea = EA(problem, max_generations=5, visualizer=True, mp=True)\n",
    "\n",
    "final_pop = ea.run()\n",
    "print(final_pop)"
   ]
  },
  {
   "cell_type": "markdown",
   "id": "caf2f1f0-ef85-4362-9191-083bfb299839",
   "metadata": {},
   "source": [
    "#### 3b. Determinar a melhor estratégia, até 5 modificações, de forma a melhorar a produção de malato"
   ]
  },
  {
   "cell_type": "markdown",
   "id": "d3fbcd5e-19dc-4541-b674-ec93816ebee5",
   "metadata": {},
   "source": [
    "Gene Under / Over Expression strategy"
   ]
  },
  {
   "cell_type": "code",
   "execution_count": null,
   "id": "06a5af89-b1cc-43eb-8488-e5d10a19e463",
   "metadata": {},
   "outputs": [],
   "source": [
    "from mewpy.problems import GOUProblem\n",
    "from mewpy.optimization import EA\n",
    "\n",
    "problem = GOUProblem(model, fevaluation = [evaluator_1, evaluator_2], envcond = envcond, candidate_max_size = 5)\n",
    "ea = EA(problem, max_generations = 5, visualizer = True, mp = True)\n",
    "final_pop = ea.run()\n",
    "print(final_pop[0])"
   ]
  },
  {
   "cell_type": "markdown",
   "id": "405439fa-d13b-41b9-9762-1f925313e4e0",
   "metadata": {},
   "source": [
    "Reaction Under / Over Expression strategy"
   ]
  },
  {
   "cell_type": "code",
   "execution_count": null,
   "id": "4d756d04-23e2-4bf9-b497-50e6bd74c1d6",
   "metadata": {},
   "outputs": [],
   "source": [
    "from mewpy.problems import ROUProblem\n",
    "from mewpy.optimization import EA\n",
    "\n",
    "problem = ROUProblem(reframed_model, fevaluation = [evaluator_1, evaluator_2], envcond = envcond, candidate_max_size = 5)\n",
    "ea = EA(problem, max_generations = 5, visualizer = True, mp = True)\n",
    "final_pop = ea.run()\n",
    "print(final_pop[0])"
   ]
  }
 ],
 "metadata": {
  "kernelspec": {
   "display_name": "Python 3",
   "language": "python",
   "name": "python3"
  },
  "language_info": {
   "codemirror_mode": {
    "name": "ipython",
    "version": 3
   },
   "file_extension": ".py",
   "mimetype": "text/x-python",
   "name": "python",
   "nbconvert_exporter": "python",
   "pygments_lexer": "ipython3",
   "version": "3.8.8"
  }
 },
 "nbformat": 4,
 "nbformat_minor": 5
}
